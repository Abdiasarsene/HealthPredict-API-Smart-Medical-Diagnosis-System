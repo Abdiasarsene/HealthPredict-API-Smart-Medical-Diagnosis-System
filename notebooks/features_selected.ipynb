{
 "cells": [
  {
   "cell_type": "markdown",
   "id": "e80bb37f",
   "metadata": {},
   "source": [
    "## Importation des bibliothèques"
   ]
  },
  {
   "cell_type": "code",
   "execution_count": 34,
   "id": "2dfa2ac3",
   "metadata": {},
   "outputs": [],
   "source": [
    "# Importation des bibliothèques\n",
    "import numpy as np\n",
    "import pandas as pd\n",
    "import shap\n",
    "from sklearn.preprocessing import StandardScaler, LabelEncoder, OneHotEncoder\n",
    "from sklearn.compose import ColumnTransformer\n",
    "from sklearn.impute import SimpleImputer\n",
    "from sklearn.pipeline import Pipeline\n",
    "from sklearn.feature_selection import mutual_info_classif, RFE\n",
    "from sklearn.linear_model import LogisticRegression\n",
    "from sklearn.model_selection import train_test_split"
   ]
  },
  {
   "cell_type": "markdown",
   "id": "f09d5791",
   "metadata": {},
   "source": [
    "## Importation de la base de données"
   ]
  },
  {
   "cell_type": "code",
   "execution_count": 35,
   "id": "abe6f4f9",
   "metadata": {},
   "outputs": [
    {
     "name": "stdout",
     "output_type": "stream",
     "text": [
      "Base de données importée ✅✅\n"
     ]
    }
   ],
   "source": [
    "# Importation de la base de données\n",
    "data = pd.read_excel(r\"../datasets/clinic_data.xlsx\")\n",
    "print(\"Base de données importée ✅✅\")"
   ]
  },
  {
   "cell_type": "markdown",
   "id": "bf949bd1",
   "metadata": {},
   "source": [
    "## Préparation des données"
   ]
  },
  {
   "cell_type": "code",
   "execution_count": 36,
   "id": "af0d110b",
   "metadata": {},
   "outputs": [
    {
     "name": "stdout",
     "output_type": "stream",
     "text": [
      "Nouvelles base de données créée après prétraitement ✅✅\n"
     ]
    }
   ],
   "source": [
    "num_col = data.select_dtypes(include=[\"int64\",\"float64\"]).columns.tolist()\n",
    "cat_col = data.select_dtypes(include=[\"object\"]).columns.difference(['Diagnostique','Traitement']).tolist()\n",
    "\n",
    "num_transformer = Pipeline([\n",
    "    (\"impute\", SimpleImputer(strategy=\"constant\", fill_value=-1)),\n",
    "    (\"scaler\", StandardScaler())\n",
    "])\n",
    "\n",
    "cat_transofmer = Pipeline([\n",
    "    (\"impute\", SimpleImputer(strategy=\"constant\", fill_value=\"Missing\")),\n",
    "    (\"oneencoder\", OneHotEncoder(sparse_output=False, handle_unknown=\"ignore\"))\n",
    "])\n",
    "\n",
    "preprocessor = ColumnTransformer(\n",
    "    transformers=[\n",
    "        (\"num\", num_transformer, num_col),\n",
    "        (\"cat\", cat_transofmer, cat_col)\n",
    "    ]\n",
    ")\n",
    "data_transformed = preprocessor.fit_transform(data)\n",
    "\n",
    "# Récuperér les colonnes encodées\n",
    "cat_features = preprocessor.named_transformers_[\"cat\"][\"oneencoder\"].get_feature_names_out(cat_col)\n",
    "all_featues = num_col + cat_features.tolist()\n",
    "data_transformed = pd.DataFrame(data_transformed, columns=all_featues)\n",
    "print(\"Nouvelles base de données créée après prétraitement ✅✅\")\n",
    "\n",
    "# Définition des variables\n",
    "x = data_transformed\n",
    "y = data[\"Diagnostique\"]\n",
    "encoder = LabelEncoder()\n",
    "y = encoder.fit_transform(y)"
   ]
  },
  {
   "cell_type": "markdown",
   "id": "0d2ae304",
   "metadata": {},
   "source": [
    "## Application de Mutual Information"
   ]
  },
  {
   "cell_type": "code",
   "execution_count": null,
   "id": "20f37588",
   "metadata": {},
   "outputs": [],
   "source": [
    "# Initialisation de Mutual Information\n",
    "mutual_info = mutual_info_classif(x,y)\n",
    "\n",
    "# Conversion en dataframe \n",
    "mutual = pd.DataFrame({'Feature': x.columns, \"MI Scores\": mutual_info})\n",
    "\n",
    "# Tri des scores \n",
    "mutual_df = mutual.sort_values(by=\"MI Scores\", ascending=False)\n",
    "\n",
    "# Filtrage des features avec socre signficatif\n",
    "mi_selected = mutual_df[mutual_df['MI Scores']>0.01]\n",
    "\n",
    "# Affichage des résultats\n",
    "print('Sortie des features pertinentes ✅✅')\n",
    "print(mi_selected)"
   ]
  },
  {
   "cell_type": "markdown",
   "id": "cc775462",
   "metadata": {},
   "source": [
    "## Application de Random Forest Classifier"
   ]
  },
  {
   "cell_type": "code",
   "execution_count": 38,
   "id": "efd5b113",
   "metadata": {},
   "outputs": [
    {
     "name": "stdout",
     "output_type": "stream",
     "text": [
      "✅ Features sélectionnées par RFE : Index(['Temperature', 'Pulse', 'BloodPressure', 'SpO2', 'RespiratoryRate',\n",
      "       'BMI', 'FastingGlucose', 'Cholesterol', 'StressLevel',\n",
      "       'Douleurs_musculaires_Absent', 'Douleurs_musculaires_Présent',\n",
      "       'Fatigue_intense_Absent', 'Frissons_Absent', 'Perte_gout_odorat_Absent',\n",
      "       'Toux_seche_Absent'],\n",
      "      dtype='object')\n"
     ]
    }
   ],
   "source": [
    "# Séparation en train/test\n",
    "X_train, X_test, y_train, y_test = train_test_split(x, y, test_size=0.2, random_state=42)\n",
    "\n",
    "# Modèle de base\n",
    "model = LogisticRegression()\n",
    "model.fit(X_train, y_train)\n",
    "\n",
    "# Sélection de features avec RFE\n",
    "rfe_selector = RFE(model, n_features_to_select=15, step=1)\n",
    "rfe_selector.fit(X_train, y_train)\n",
    "rfe_features = X_train.columns[rfe_selector.support_]\n",
    "\n",
    "print(\"✅ Features sélectionnées par RFE :\", rfe_features)"
   ]
  },
  {
   "cell_type": "markdown",
   "id": "059b22f3",
   "metadata": {},
   "source": [
    "## Application de SHAP"
   ]
  },
  {
   "cell_type": "code",
   "execution_count": 39,
   "id": "24984471",
   "metadata": {},
   "outputs": [
    {
     "name": "stdout",
     "output_type": "stream",
     "text": [
      "\n",
      "Top features selon SHAP :\n",
      "[['Pulse' 'RespiratoryRate' 'Temperature' 'BloodPressure' 'SpO2']\n",
      " ['Temperature' 'BloodPressure' 'SpO2' 'RespiratoryRate' 'Pulse']\n",
      " ['SpO2' 'Pulse' 'Temperature' 'RespiratoryRate' 'BloodPressure']\n",
      " ['RespiratoryRate' 'BloodPressure' 'Pulse' 'Temperature' 'SpO2']\n",
      " ['Temperature' 'Pulse' 'BloodPressure' 'SpO2' 'RespiratoryRate']\n",
      " ['SpO2' 'Temperature' 'RespiratoryRate' 'BloodPressure' 'Pulse']\n",
      " ['SpO2' 'BloodPressure' 'RespiratoryRate' 'Temperature' 'Pulse']\n",
      " ['Temperature' 'Pulse' 'BloodPressure' 'SpO2' 'RespiratoryRate']\n",
      " ['SpO2' 'RespiratoryRate' 'BloodPressure' 'Temperature' 'Pulse']\n",
      " ['Temperature' 'SpO2' 'BloodPressure' 'Pulse' 'RespiratoryRate']]\n"
     ]
    }
   ],
   "source": [
    "from sklearn.ensemble import RandomForestClassifier\n",
    "\n",
    "# Séparation en train/test\n",
    "X_train, X_test, y_train, y_test = train_test_split(x, y, test_size=0.2, random_state=42)\n",
    "\n",
    "# Modèle de base\n",
    "model = RandomForestClassifier(random_state=42)\n",
    "model.fit(X_train, y_train)\n",
    "\n",
    "# Analyse SHAP avec TreeExplainer\n",
    "explainer = shap.TreeExplainer(model)\n",
    "shap_values = explainer.shap_values(X_test)\n",
    "\n",
    "# Gestion des SHAP values (multiclasse ou non)\n",
    "if isinstance(shap_values, list):\n",
    "    shap_values_aggregated = np.mean([np.abs(sv) for sv in shap_values], axis=0)\n",
    "else:\n",
    "    shap_values_aggregated = np.abs(shap_values)\n",
    "\n",
    "# Conversion explicite des noms de colonnes en array\n",
    "columns_array = np.array(X_test.columns)\n",
    "shap_importance = shap_values_aggregated.mean(axis=0)\n",
    "shap_features = columns_array[np.argsort(-shap_importance)[:10]]  # Top 10 features SHAP\n",
    "\n",
    "print(\"\\nTop features selon SHAP :\")\n",
    "print(shap_features)\n"
   ]
  },
  {
   "cell_type": "code",
   "execution_count": 40,
   "id": "eea81083",
   "metadata": {},
   "outputs": [
    {
     "name": "stdout",
     "output_type": "stream",
     "text": [
      "Jeu de données importé ✅✅\n"
     ]
    }
   ],
   "source": [
    "# Listes des colonnes après RFE et SHAP\n",
    "colonnes_pour_prediction = [\"Diagnostique\",\"Traitement\",\"Temperature\",\"Pulse\",\"BloodPressure\",\"SpO2\",\"RespiratoryRate\",\"BMI\",\"FastingGlucose\",\"Cholesterol\",\"StressLevel\",\"Fatigue_intense\",\"Frissons\",\"Perte_gout_odorat\",\"Toux_seche\"]\n",
    "\n",
    "# Creation du nouveau jeu de données\n",
    "data = data.copy()\n",
    "data = data[colonnes_pour_prediction]\n",
    "\n",
    "# Exportation du jeu de données\n",
    "data.to_excel(r\"../datasets/newDataClinic.xlsx\", index=False)\n",
    "print(\"Jeu de données importé ✅✅\")"
   ]
  },
  {
   "cell_type": "code",
   "execution_count": null,
   "id": "c9f1a2a4",
   "metadata": {},
   "outputs": [],
   "source": [
    "import numpy as np\n",
    "df = pd.read_excel(r\"..\\datasets\\clinic_data.xlsx\")\n",
    "\n",
    "colonnes_a_changer = ['Frissons','Fievre', 'Toux_seche', 'Perte_gout_odorat','Douleurs_musculaires', 'Fatigue_intense', \"Diagnostique\",\"Traitement\"]\n",
    "\n",
    "df[colonnes_a_changer] = df[colonnes_a_changer].replace({'Present': 'Présent'})\n",
    "\n",
    "# Pour chaque colonne ciblée\n",
    "for col in colonnes_a_changer:\n",
    "    mask = df[col] == 'Présent'  # détecte les lignes à modifier\n",
    "    indices = df[mask].sample(frac=0.3, random_state=42).index  # 30% des \"Présent\"\n",
    "    df.loc[indices, col] = 'Absent'"
   ]
  }
 ],
 "metadata": {
  "kernelspec": {
   "display_name": "Python 3",
   "language": "python",
   "name": "python3"
  },
  "language_info": {
   "codemirror_mode": {
    "name": "ipython",
    "version": 3
   },
   "file_extension": ".py",
   "mimetype": "text/x-python",
   "name": "python",
   "nbconvert_exporter": "python",
   "pygments_lexer": "ipython3",
   "version": "3.12.5"
  }
 },
 "nbformat": 4,
 "nbformat_minor": 5
}
