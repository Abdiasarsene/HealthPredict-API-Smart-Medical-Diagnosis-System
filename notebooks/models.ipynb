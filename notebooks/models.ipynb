{
 "cells": [
  {
   "cell_type": "code",
   "execution_count": 3,
   "id": "b84526a9",
   "metadata": {},
   "outputs": [],
   "source": [
    "# Importation de la base de données\n",
    "import numpy as np\n",
    "import pandas as pd\n",
    "from sklearn.impute import SimpleImputer\n",
    "from sklearn.pipeline import Pipeline\n",
    "from sklearn.preprocessing import MinMaxScaler, LabelEncoder, OneHotEncoder\n",
    "from sklearn.compose import ColumnTransformer\n",
    "from sklearn.model_selection import train_test_split, StratifiedKFold, RandomizedSearchCV\n",
    "from scipy.stats import uniform, randint\n",
    "from sklearn.linear_model import LogisticRegression\n",
    "from sklearn.ensemble import RandomForestClassifier\n",
    "from sklearn.svm import SVC\n",
    "from xgboost import XGBClassifier\n",
    "from sklearn.metrics import recall_score, f1_score, accuracy_score\n",
    "import mlflow\n",
    "import mlflow.sklearn\n",
    "from mlflow.tracking import MlflowClient"
   ]
  },
  {
   "cell_type": "code",
   "execution_count": 4,
   "id": "4f3027a5",
   "metadata": {},
   "outputs": [
    {
     "name": "stdout",
     "output_type": "stream",
     "text": [
      "Jeu de données importé ✅✅\n"
     ]
    }
   ],
   "source": [
    "# ====== Importer le jeu de données ======\n",
    "data = pd.read_excel(r\"D:\\Projects\\IT\\Data Science & IA\\Prediction_des_Maladies_et_Proposition_de_Traitement\\datasets\\clinic_data.xlsx\")\n",
    "print(\"Jeu de données importé ✅✅\")"
   ]
  },
  {
   "cell_type": "code",
   "execution_count": 5,
   "id": "d08b5ad8",
   "metadata": {},
   "outputs": [],
   "source": [
    "# Séparer des features/Target\n",
    "x = data.drop(columns=['Diagnostique','Traitement'])\n",
    "y = data[\"Diagnostique\"]\n",
    "\n",
    "# Encoder du Target \n",
    "label = LabelEncoder()\n",
    "y = label.fit_transform(y)\n",
    "\n",
    "# === Diviser les données en entraînement et de test ===\n",
    "x_train, x_test, y_train, y_test = train_test_split(x,y, random_state=42, test_size=0.2)"
   ]
  },
  {
   "cell_type": "code",
   "execution_count": 6,
   "id": "5426630b",
   "metadata": {},
   "outputs": [],
   "source": [
    "# === Détection automatique des types de données ===\n",
    "num_col = data.select_dtypes(include=['int64','float64']).columns.tolist()\n",
    "cat_col = data.select_dtypes(include=[\"object\"]).columns.difference(['Traitement','Diagnostique']).tolist()"
   ]
  },
  {
   "cell_type": "code",
   "execution_count": 7,
   "id": "8346054c",
   "metadata": {},
   "outputs": [],
   "source": [
    "# ====== Préprocesseurs ======\n",
    "num_transformer =Pipeline([\n",
    "    ('imputer', SimpleImputer(strategy='median')),\n",
    "    ('scaler', MinMaxScaler())\n",
    "])\n",
    "\n",
    "cat_transformer = Pipeline([\n",
    "    ('imputer', SimpleImputer(strategy='constant', fill_value='missing')),\n",
    "    ('oneencoder', OneHotEncoder(sparse_output= False, handle_unknown='ignore'))\n",
    "])\n",
    "\n",
    "# ====== ColumnTransformer général =======\n",
    "preprocessor = ColumnTransformer(\n",
    "    transformers=[\n",
    "        ('num', num_transformer, num_col),\n",
    "        ('cat',cat_transformer,cat_col),\n",
    "    ]\n",
    ")"
   ]
  },
  {
   "cell_type": "code",
   "execution_count": 8,
   "id": "cba28362",
   "metadata": {},
   "outputs": [
    {
     "name": "stdout",
     "output_type": "stream",
     "text": [
      "\n",
      "🔍 Entraînement du modèle : logistic\n"
     ]
    },
    {
     "name": "stderr",
     "output_type": "stream",
     "text": [
      "c:\\Users\\hp\\AppData\\Local\\Programs\\Python\\Python312\\Lib\\site-packages\\sklearn\\model_selection\\_search.py:317: UserWarning: The total space of parameters 6 is smaller than n_iter=20. Running 6 iterations. For exhaustive searches, use GridSearchCV.\n",
      "  warnings.warn(\n"
     ]
    },
    {
     "name": "stdout",
     "output_type": "stream",
     "text": [
      "\n",
      "🔍 Entraînement du modèle : random_forest\n"
     ]
    },
    {
     "name": "stderr",
     "output_type": "stream",
     "text": [
      "c:\\Users\\hp\\AppData\\Local\\Programs\\Python\\Python312\\Lib\\site-packages\\sklearn\\model_selection\\_search.py:317: UserWarning: The total space of parameters 6 is smaller than n_iter=20. Running 6 iterations. For exhaustive searches, use GridSearchCV.\n",
      "  warnings.warn(\n"
     ]
    },
    {
     "name": "stdout",
     "output_type": "stream",
     "text": [
      "\n",
      "🔍 Entraînement du modèle : xgboost\n"
     ]
    },
    {
     "name": "stderr",
     "output_type": "stream",
     "text": [
      "c:\\Users\\hp\\AppData\\Local\\Programs\\Python\\Python312\\Lib\\site-packages\\sklearn\\model_selection\\_search.py:1108: UserWarning: One or more of the test scores are non-finite: [nan nan nan nan nan nan nan nan nan nan nan nan nan nan nan nan nan nan\n",
      " nan nan]\n",
      "  warnings.warn(\n",
      "c:\\Users\\hp\\AppData\\Local\\Programs\\Python\\Python312\\Lib\\site-packages\\xgboost\\core.py:158: UserWarning: [18:16:05] WARNING: C:\\buildkite-agent\\builds\\buildkite-windows-cpu-autoscaling-group-i-0c55ff5f71b100e98-1\\xgboost\\xgboost-ci-windows\\src\\learner.cc:740: \n",
      "Parameters: { \"use_label_encoder\" } are not used.\n",
      "\n",
      "  warnings.warn(smsg, UserWarning)\n"
     ]
    }
   ],
   "source": [
    "# ======= Modèles à entraîner ======\n",
    "models = {\n",
    "    'logistic': LogisticRegression(max_iter=1000, solver='liblinear',class_weight=\"balanced\"),\n",
    "    'random_forest': RandomForestClassifier(class_weight=\"balanced\"),\n",
    "    'xgboost': XGBClassifier(use_label_encoder=False, eval_metric='mlogloss')\n",
    "}\n",
    "\n",
    "# Grilles d'hyperparamètres\n",
    "param_dist = {\n",
    "    \"logistic\": {\n",
    "        \"classifier__C\": [0.1, 1, 10],\n",
    "        \"classifier__penalty\": [\"l1\", \"l2\"]\n",
    "    },\n",
    "    \"random_forest\": {\n",
    "        \"classifier__n_estimators\": [100, 200],\n",
    "        \"classifier__max_depth\": [10, 20, None]\n",
    "    },\n",
    "    \"xgboost\": {\n",
    "        \"classifier__learning_rate\": [0.01, 0.05, 0.1, 0.2],\n",
    "        \"classifier__n_estimators\": [100, 200, 300],\n",
    "        \"classifier__max_depth\": [3, 6, 10],\n",
    "        \"classifier__subsample\": [0.7, 0.8, 0.9],\n",
    "        \"classifier__colsample_bytree\": [0.7, 0.8, 1],\n",
    "        \"classifier__gamma\": [0, 0.1, 0.2]\n",
    "    }\n",
    "}\n",
    "\n",
    "# ====== Entraînement avec RandomizedSearchCV ======\n",
    "cv = StratifiedKFold(n_splits=5, shuffle=True, random_state=42)\n",
    "\n",
    "best_models = {}\n",
    "\n",
    "for name, model in models.items():\n",
    "    print(f\"\\n🔍 Entraînement du modèle : {name}\")\n",
    "    \n",
    "    pipe = Pipeline([\n",
    "        ('preprocessing', preprocessor),\n",
    "        ('classifier', model)\n",
    "    ])\n",
    "    \n",
    "    random_search = RandomizedSearchCV(\n",
    "        pipe,\n",
    "        param_distributions=param_dist[name],\n",
    "        n_iter=20,  # tu peux ajuster selon ton temps de calcul\n",
    "        cv=cv,\n",
    "        n_jobs=-1,\n",
    "        scoring='accuracy',\n",
    "        random_state=42\n",
    "    )\n",
    "    \n",
    "    random_search.fit(x_train, y_train)\n",
    "    best_model = random_search.best_estimator_"
   ]
  },
  {
   "cell_type": "code",
   "execution_count": 9,
   "id": "326643d2",
   "metadata": {},
   "outputs": [
    {
     "name": "stdout",
     "output_type": "stream",
     "text": [
      "🎯 Tous les modèles ont été entraînés et enregistrés avec succès dans MLflow ✅✅✅\n"
     ]
    }
   ],
   "source": [
    "# ====== FONCTION DE LOG DANS MLFLOW  ======\n",
    "def mlflow_log(model, x_test, y_test, model_name):\n",
    "    try:\n",
    "        # Prédiction et calcul des métriques\n",
    "        y_pred = model.predict(x_test)\n",
    "        acc = accuracy_score(y_test, y_pred)\n",
    "        f1 = f1_score(y_test, y_pred, average='weighted')\n",
    "        rec = recall_score(y_test, y_pred, average='weighted')\n",
    "\n",
    "        with mlflow.start_run(run_name=model_name):\n",
    "            # Log des paramètres et des métriques\n",
    "            mlflow.log_param('model_type', model_name)\n",
    "            mlflow.log_params(model.get_params())\n",
    "            mlflow.log_metric('accuracy', acc)\n",
    "            mlflow.log_metric('f1_score', f1)\n",
    "            mlflow.log_metric('recall', rec)\n",
    "            \n",
    "            # Log du modèle dans MLflow\n",
    "            mlflow.sklearn.log_model(model, model_name)\n",
    "            \n",
    "            # Enregistrement dans le Model Registry\n",
    "            model_uri = f\"runs:/{mlflow.active_run().info.run_id}/{model_name}\"\n",
    "            result = mlflow.register_model(model_uri=model_uri, name=model_name)\n",
    "            print(f'Model {model_name} enregistré dans le Model Registry avec succès ✅✅')\n",
    "            \n",
    "            # Promotion automatique en Production\n",
    "            client = MlflowClient()\n",
    "            client.transition_model_version_stage(\n",
    "                name=model_name,\n",
    "                version=result.version,\n",
    "                stage=\"Production\",  # Tu peux utiliser \"Staging\" si tu préfères\n",
    "                archive_existing_versions=True\n",
    "            )\n",
    "        print(f\"✅ {model_name} enregistré avec succès dans MLflow\\n\")\n",
    "        \n",
    "    except Exception as e:\n",
    "        print(f\"❌ Une erreur est survenue lors du logging du modèle {model_name} : {e}\")\n",
    "\n",
    "# Enregistrement des modèles dans MLflow\n",
    "for name, best_model in best_models.items():\n",
    "    mlflow_log(best_model, x_test, y_test, name)\n",
    "\n",
    "print(\"🎯 Tous les modèles ont été entraînés et enregistrés avec succès dans MLflow ✅✅✅\")"
   ]
  }
 ],
 "metadata": {
  "kernelspec": {
   "display_name": "Python 3",
   "language": "python",
   "name": "python3"
  },
  "language_info": {
   "codemirror_mode": {
    "name": "ipython",
    "version": 3
   },
   "file_extension": ".py",
   "mimetype": "text/x-python",
   "name": "python",
   "nbconvert_exporter": "python",
   "pygments_lexer": "ipython3",
   "version": "3.12.5"
  }
 },
 "nbformat": 4,
 "nbformat_minor": 5
}
