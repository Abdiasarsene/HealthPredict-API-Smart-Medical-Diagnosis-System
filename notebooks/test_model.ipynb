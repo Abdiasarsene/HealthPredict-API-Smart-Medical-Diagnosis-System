{
 "cells": [
  {
   "cell_type": "code",
   "execution_count": 1,
   "metadata": {},
   "outputs": [
    {
     "name": "stdout",
     "output_type": "stream",
     "text": [
      "Data imported successfully ✅✅✅\n",
      "Data normalized successfully ✅✅✅\n",
      "Logistic Regression successful✅✅✅\n"
     ]
    }
   ],
   "source": [
    "# Importation des librairies\n",
    "import pandas as pd\n",
    "import matplotlib.pyplot as plt\n",
    "import seaborn as sns\n",
    "from sklearn.preprocessing import MinMaxScaler\n",
    "from sklearn.model_selection import train_test_split, GridSearchCV\n",
    "from sklearn.linear_model import LogisticRegression\n",
    "from sklearn.ensemble import RandomForestClassifier, GradientBoostingClassifier\n",
    "from sklearn.metrics import accuracy_score, f1_score, recall_score\n",
    "import mlflow\n",
    "import mlflow.sklearn\n",
    "import pickle\n",
    "\n",
    "# Importation de la base de données traitée\n",
    "data_treated = pd.read_excel(r'D:\\Projects\\IT\\Data Science & IA\\HealthPredict_Disease_Prediction_Treatment_Proposal\\HealthPredict\\data\\data_health_treated.xlsx')\n",
    "print(\"Data imported successfully ✅✅✅\")\n",
    "\n",
    "# Préparation de la base de données\n",
    "x = data_treated.drop(columns=['Diagnosis'])\n",
    "y = data_treated['Diagnosis']\n",
    "\n",
    "# Normalisation des données\n",
    "minmax = MinMaxScaler()\n",
    "x_normalized =minmax.fit_transform(x)\n",
    "print(\"Data normalized successfully ✅✅✅\")\n",
    "\n",
    "# Division des données entraînement et de test\n",
    "SEED = 42\n",
    "x_train, x_test, y_train, y_test = train_test_split(x_normalized,y, test_size=0.2, random_state= SEED)\n",
    "\n",
    "# Regression logistique validation croisée\n",
    "lr = LogisticRegression(random_state=SEED)\n",
    "lr_param_grid={\n",
    "    'C':[100,10,1.0,0.1,0.01],\n",
    "    'penalty': ['l1', 'l2'] ,\n",
    "    'solver':['liblinear']\n",
    "}\n",
    "lr_gs = GridSearchCV(\n",
    "    estimator=lr,\n",
    "    param_grid=lr_param_grid,\n",
    "    cv=5,\n",
    "    n_jobs=-1,\n",
    "    scoring= 'accuracy',\n",
    "    verbose=0\n",
    ")\n",
    "lr_model = lr_gs.fit(x_train,y_train)\n",
    "print('Logistic Regression successful✅✅✅')"
   ]
  },
  {
   "cell_type": "code",
   "execution_count": 2,
   "metadata": {},
   "outputs": [
    {
     "data": {
      "text/plain": [
       "4    180\n",
       "3    170\n",
       "0    162\n",
       "2    155\n",
       "1    133\n",
       "Name: Diagnosis, dtype: int64"
      ]
     },
     "execution_count": 2,
     "metadata": {},
     "output_type": "execute_result"
    }
   ],
   "source": [
    "y_train.value_counts()"
   ]
  }
 ],
 "metadata": {
  "kernelspec": {
   "display_name": "HealthPredict",
   "language": "python",
   "name": "python3"
  },
  "language_info": {
   "codemirror_mode": {
    "name": "ipython",
    "version": 3
   },
   "file_extension": ".py",
   "mimetype": "text/x-python",
   "name": "python",
   "nbconvert_exporter": "python",
   "pygments_lexer": "ipython3",
   "version": "3.9.9"
  }
 },
 "nbformat": 4,
 "nbformat_minor": 2
}
